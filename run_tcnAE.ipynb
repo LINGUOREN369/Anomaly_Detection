{
 "cells": [
  {
   "cell_type": "code",
   "execution_count": 1,
   "metadata": {},
   "outputs": [],
   "source": [
    "import torch\n",
    "import torch.nn as nn\n",
    "import torch.optim as optim\n",
    "import torch.nn.functional as F\n",
    "from torch.utils.data import DataLoader, Dataset\n",
    "import numpy as np\n",
    "import matplotlib.pyplot as plt\n",
    "\n",
    "from tcnAutoencoder import TCNAutoencoder"
   ]
  },
  {
   "cell_type": "code",
   "execution_count": 2,
   "metadata": {},
   "outputs": [],
   "source": [
    "# if in jupyter notebook, don't run this cell\n",
    "if False: \n",
    "    import argparse\n",
    "\n",
    "    # Parse command line arguments\n",
    "    parser = argparse.ArgumentParser()\n",
    "    parser.add_argument(\"--ticker\", default=\"*\", type=str, help=\"Ticker value\")\n",
    "    parser.add_argument(\"--alias\", type=str, help=\"Alias value\")\n",
    "    args = parser.parse_args()\n",
    "\n",
    "    # Access the values of the arguments\n",
    "    ticker = args.ticker\n",
    "    alias = args.alias\n",
    "\n",
    "    # Print the values for testing\n",
    "    print(\"Ticker:\", ticker)\n",
    "    print(\"Alias:\", alias)\n",
    "else:\n",
    "    ticker = \"AAPL\"\n",
    "    alias = \"AAPL\""
   ]
  },
  {
   "cell_type": "code",
   "execution_count": 3,
   "metadata": {},
   "outputs": [
    {
     "name": "stdout",
     "output_type": "stream",
     "text": [
      "Read 738034 unique order book shapshots from ./data/hft_data/AAPL/AAPL_2024-03-01_34200000_57600000_message_10.csv\n",
      "Read 1923409 unique order book shapshots from ./data/hft_data/AAPL/AAPL_2024-03-04_34200000_57600000_message_10.csv\n",
      "Read 2108353 unique order book shapshots from ./data/hft_data/AAPL/AAPL_2024-03-05_34200000_57600000_message_10.csv\n",
      "Read 2364167 unique order book shapshots from ./data/hft_data/AAPL/AAPL_2024-03-06_34200000_57600000_message_10.csv\n",
      "Read 1732063 unique order book shapshots from ./data/hft_data/AAPL/AAPL_2024-03-07_34200000_57600000_message_10.csv\n",
      "Read 3123866 unique order book shapshots from ./data/hft_data/AAPL/AAPL_2024-03-08_34200000_57600000_message_10.csv\n"
     ]
    }
   ],
   "source": [
    "# %load load_data.py\n",
    "import pandas as pd\n",
    "import glob, os, re\n",
    "\n",
    "\n",
    "# Read the data only once.  It's big!\n",
    "csv_files = glob.glob(os.path.join(\".\", \"data\", \"hft_data\", ticker, \"*_message_*.csv\"))\n",
    "date_str = re.compile(r'_(\\d{4}-\\d{2}-\\d{2})_')\n",
    "stock_str = re.compile(r'([A-Z]+)_\\d{4}-\\d{2}-\\d{2}_')\n",
    "\n",
    "df_list = []\n",
    "day_list = []\n",
    "sym_list = []\n",
    "\n",
    "for csv_file in sorted(csv_files):\n",
    "    date = date_str.search(csv_file)\n",
    "    date = date.group(1)\n",
    "    day_list.append(date)\n",
    "\n",
    "    symbol = stock_str.search(csv_file)\n",
    "    symbol = symbol.group(1)\n",
    "    sym_list.append(symbol)\n",
    "\n",
    "    # Find the order book file that matches this message file.\n",
    "    book_file = csv_file.replace(\"message\", \"orderbook\")\n",
    "\n",
    "    # Read the message file and index by timestamp.\n",
    "    df = pd.read_csv(csv_file, names=['Time','EventType','OrderID','Size','Price','Direction'])\n",
    "    df['Time'] = pd.to_datetime(date) + pd.to_timedelta(df['Time'], unit='s')\n",
    "\n",
    "    # Read the order book file and merge it with the messages.\n",
    "    names = [f\"{x}{i}\" for i in range(1,11) for x in [\"AP\",\"AS\",\"BP\",\"BS\"]]\n",
    "    df = df.join(pd.read_csv(book_file, names=names), how='inner')\n",
    "    df = df.set_index(['Time'])\n",
    "\n",
    "    BBID_COL = df.columns.get_loc(\"BP1\")\n",
    "    BASK_COL = df.columns.get_loc(\"AP1\")\n",
    "\n",
    "    print (f\"Read {df.shape[0]} unique order book shapshots from {csv_file}\")\n",
    "\n",
    "    df_list.append(df)\n",
    "\n",
    "days = len(day_list)"
   ]
  },
  {
   "cell_type": "code",
   "execution_count": 4,
   "metadata": {},
   "outputs": [
    {
     "name": "stdout",
     "output_type": "stream",
     "text": [
      "original shape:  (234000, 2)\n",
      "original shape:  (234000, 2)\n",
      "original shape:  (234000, 2)\n",
      "original shape:  (234000, 2)\n",
      "original shape:  (234000, 2)\n"
     ]
    }
   ],
   "source": [
    "def prep_data(df) -> pd.DataFrame:\n",
    "    df = df[['Price', 'Size']]\n",
    "    df.head()\n",
    "\n",
    "    # sample every 100ms, and the size would be the sum of the size in that 100ms. \n",
    "    # Price would be the average price in that 100ms.\n",
    "    df = df.resample('100ms').agg({'Price': 'mean', 'Size': 'sum'})\n",
    "\n",
    "    # Check for NaN values\n",
    "\n",
    "    # forwardfill all NaN values in the data\n",
    "    df = df.ffill()\n",
    "\n",
    "    # normalize the data with mean and std\n",
    "    mean = df['Price'].mean()\n",
    "    std = df['Price'].std()\n",
    "    df['Price'] = (df['Price'] - mean) / std\n",
    "\n",
    "    mean = df['Size'].mean()\n",
    "    std = df['Size'].std()\n",
    "    df['Size'] = (df['Size'] - mean) / std\n",
    "\n",
    "    print(\"original shape: \", df.shape)\n",
    "\n",
    "    df = df.values\n",
    "    # Create a tensor for every 30 minutes of data\n",
    "    tensors = []\n",
    "    for i in range(0, len(df), 6000):\n",
    "        if i + 18000 <= len(df):\n",
    "            # flip the first and second dimension, so that the shape is (batch_size, channel, sequence_length)\n",
    "            tensors.append(torch.tensor(df[i:i+18000], dtype = torch.float32).unsqueeze(0))\n",
    "        # if it's less than 30 minutes, then we just ignore it. \n",
    "            \n",
    "\n",
    "    return tensors\n",
    "\n",
    "    # Create the final torch tensor, every 1 hour is a sequence\n",
    "\n",
    "tensors_list = []\n",
    "for df in df_list[1:]: \n",
    "    tensors_list.extend(prep_data(df))\n"
   ]
  },
  {
   "cell_type": "code",
   "execution_count": 5,
   "metadata": {},
   "outputs": [
    {
     "name": "stdout",
     "output_type": "stream",
     "text": [
      "len(tensors_list) = 185\n",
      "True\n"
     ]
    }
   ],
   "source": [
    "# filp the first and second dimension, so that the shape is (batch_size, channel, sequence_length)\n",
    "tensors_list = [tensor.permute(0, 2, 1) for tensor in tensors_list]\n",
    "\n",
    "print(f\"{len(tensors_list) = }\")\n",
    "\n",
    "dims = [tensor.shape[1] for tensor in tensors_list]\n",
    "\n",
    "# check if all dims are the same\n",
    "print(all(x == dims[0] for x in dims))\n"
   ]
  },
  {
   "cell_type": "code",
   "execution_count": 6,
   "metadata": {},
   "outputs": [
    {
     "name": "stdout",
     "output_type": "stream",
     "text": [
      "Using device mps\n"
     ]
    }
   ],
   "source": [
    "# Start the training process with tensors.\n",
    "\n",
    "if torch.cuda.is_available():\n",
    "    device = torch.device(\"cuda\")\n",
    "elif torch.backends.mps.is_available():\n",
    "    device = torch.device(\"mps\")\n",
    "else:\n",
    "    device = torch.device(\"cpu\")\n",
    "\n",
    "print(f\"Using device {device}\")\n",
    "\n",
    "def initialize_weights(m):\n",
    "    if isinstance(m, nn.Conv1d):\n",
    "        nn.init.xavier_normal_(m.weight)\n",
    "        if m.bias is not None:\n",
    "            nn.init.constant_(m.bias, 0)\n",
    "\n",
    "def log_cosh_loss(y_pred: torch.Tensor, y_true: torch.Tensor) -> torch.Tensor:\n",
    "    def _log_cosh(x: torch.Tensor) -> torch.Tensor:\n",
    "        return x + torch.nn.functional.softplus(-2. * x) - np.log(2.0)\n",
    "    return torch.mean(_log_cosh(y_pred - y_true))\n",
    "\n",
    "class LogCoshLoss(torch.nn.Module):\n",
    "    def __init__(self):\n",
    "        super().__init__()\n",
    "\n",
    "    def forward(\n",
    "        self, y_pred: torch.Tensor, y_true: torch.Tensor\n",
    "    ) -> torch.Tensor:\n",
    "        return log_cosh_loss(y_pred, y_true)\n",
    "\n",
    "model = TCNAutoencoder(input_dim=(2, 18000)).to(device)\n",
    "model.apply(initialize_weights)\n",
    "\n",
    "criterion = LogCoshLoss()\n",
    "optimizer = optim.Adam(model.parameters(), lr=0.005)\n",
    "\n",
    "import tqdm\n",
    "\n",
    "# Randomly sample 0.2 of the data from the batch for testing, excluding them for traning.\n",
    "tensors = tensors_list\n",
    "tensors_train = tensors[:int(len(tensors) * 0.8)]\n",
    "tensors_test = tensors[int(len(tensors) * 0.8):]"
   ]
  },
  {
   "cell_type": "code",
   "execution_count": 7,
   "metadata": {},
   "outputs": [],
   "source": [
    "def check_gradients(model):\n",
    "    total_norm = 0\n",
    "    for p in model.parameters():\n",
    "        if p.grad is not None:\n",
    "            param_norm = p.grad.data.norm(2)\n",
    "            total_norm += param_norm.item() ** 2\n",
    "    total_norm = total_norm ** 0.5\n",
    "    print(f'Total Gradient Norm: {total_norm}')\n"
   ]
  },
  {
   "cell_type": "code",
   "execution_count": null,
   "metadata": {},
   "outputs": [],
   "source": [
    "# Train the model\n",
    "\n",
    "import time\n",
    "losses = []\n",
    "test_losses = []\n",
    "for epoch in range(100):\n",
    "    # time each epoch\n",
    "    start_time = time.time()\n",
    "\n",
    "    # shuffle the data\n",
    "    np.random.shuffle(tensors_train)\n",
    "\n",
    "    # create a mini-batch of 32\n",
    "    data = torch.cat(tensors_train[:32], dim=0).to(device)\n",
    "    \n",
    "    optimizer.zero_grad()\n",
    "    output = model(data)\n",
    "    loss = criterion(output, data)\n",
    "    loss.backward()\n",
    "    # This line is not needed as my model does not have exploding gradients\n",
    "    # torch.nn.utils.clip_grad_norm_(model.parameters(), max_norm=2.0)\n",
    "\n",
    "    optimizer.step()\n",
    "    print(f\"Epoch: {epoch}, Loss: {loss.item()}\")\n",
    "    losses.append(loss.item())\n",
    "    print(f\"Time taken (seconds): {time.time() - start_time}\")\n",
    "    if epoch % 40 == 0:\n",
    "        # test the model\n",
    "        model.eval()\n",
    "        check_gradients(model)\n",
    "        test_data = torch.cat(tensors_test, dim=0).to(device)\n",
    "        test_output = model(test_data)\n",
    "        test_loss = criterion(test_output, test_data)\n",
    "        print(f\"\\t\\tTest Loss: {test_loss.item()}\")\n",
    "        # save a model\n",
    "        test_losses.append((epoch, test_loss.item()))\n",
    "        torch.save(model.state_dict(), f\"{alias}_model_epoch_{epoch}.plt\")\n",
    "        print(f\"Model saved as {alias}_model_epoch_{epoch}.plt\")\n",
    "        model.train()\n",
    "\n",
    "\n",
    "# final OOS test\n",
    "model.eval()\n",
    "check_gradients(model)\n",
    "test_data = torch.cat(tensors_test, dim=0).to(device)\n",
    "test_output = model(test_data)\n",
    "test_loss = criterion(test_output, test_data)\n",
    "print(f\"\\t\\tTest Loss: {test_loss.item()}\")\n",
    "# save a model\n",
    "test_losses.append((epoch, test_loss.item()))\n",
    "\n",
    "# save a final model\n",
    "torch.save(model.state_dict(), f\"{alias}_model_final.plt\")\n",
    "print(f\"Model saved as {alias}_model_final.plt\")\n",
    "\n",
    "    "
   ]
  },
  {
   "cell_type": "code",
   "execution_count": 11,
   "metadata": {},
   "outputs": [
    {
     "name": "stdout",
     "output_type": "stream",
     "text": [
      "Loss plot saved as AAPLloss_plot.png\n"
     ]
    },
    {
     "data": {
      "image/png": "[encoded data removed]",
      "text/plain": [
       "<Figure size 640x480 with 1 Axes>"
      ]
     },
     "metadata": {},
     "output_type": "display_data"
    }
   ],
   "source": [
    "# plot the loss\n",
    "epochs, t_losses = zip(*test_losses)\n",
    "plt.plot(epochs, t_losses)\n",
    "# overlay the training loss\n",
    "plt.plot(losses)\n",
    "plt.xlabel('Epoch')\n",
    "plt.ylabel('Loss')\n",
    "plt.legend(['Test Loss', 'Train Loss'])\n",
    "# save the plot in the current directory\n",
    "plt.savefig(f'{alias}loss_plot.png')\n",
    "print(f\"Loss plot saved as {alias}loss_plot.png\")\n",
    "\n",
    "\n",
    "# Run another 1000 epochs"
   ]
  },
  {
   "cell_type": "code",
   "execution_count": null,
   "metadata": {},
   "outputs": [],
   "source": [
    "plt.plot(losses)"
   ]
  },
  {
   "cell_type": "code",
   "execution_count": null,
   "metadata": {},
   "outputs": [],
   "source": []
  }
 ],
 "metadata": {
  "kernelspec": {
   "display_name": "Python 3",
   "language": "python",
   "name": "python3"
  },
  "language_info": {
   "codemirror_mode": {
    "name": "ipython",
    "version": 3
   },
   "file_extension": ".py",
   "mimetype": "text/x-python",
   "name": "python",
   "nbconvert_exporter": "python",
   "pygments_lexer": "ipython3",
   "version": "3.11.8"
  }
 },
 "nbformat": 4,
 "nbformat_minor": 2
}
