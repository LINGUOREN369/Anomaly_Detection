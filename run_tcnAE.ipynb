{
 "cells": [
  {
   "cell_type": "code",
   "execution_count": 10,
   "metadata": {},
   "outputs": [],
   "source": [
    "import torch\n",
    "import torch.nn as nn\n",
    "import torch.optim as optim\n",
    "import torch.nn.functional as F\n",
    "import pandas as pd\n",
    "from torch.utils.data import DataLoader, Dataset\n",
    "import numpy as np\n",
    "import matplotlib.pyplot as plt\n",
    "import gc\n",
    "\n",
    "from tcnAutoencoder import TCNAutoencoder"
   ]
  },
  {
   "cell_type": "code",
   "execution_count": 11,
   "metadata": {},
   "outputs": [],
   "source": [
    "# if in jupyter notebook, don't run this cell\n",
    "if False: \n",
    "    import argparse\n",
    "\n",
    "    # Parse command line arguments\n",
    "    parser = argparse.ArgumentParser()\n",
    "    parser.add_argument(\"--ticker\", default=\"*\", type=str, help=\"Ticker value\")\n",
    "    parser.add_argument(\"--alias\", type=str, help=\"Alias value\")\n",
    "    args = parser.parse_args()\n",
    "\n",
    "    # Access the values of the arguments\n",
    "    ticker = args.ticker\n",
    "    alias = args.alias\n",
    "\n",
    "    # Print the values for testing\n",
    "    print(\"Ticker:\", ticker)\n",
    "    print(\"Alias:\", alias)\n",
    "else:\n",
    "    ticker = \"INTC\"\n",
    "    alias = \"INTC\""
   ]
  },
  {
   "cell_type": "code",
   "execution_count": 12,
   "metadata": {},
   "outputs": [],
   "source": [
    "def prep_data(df) -> pd.DataFrame:\n",
    "    df = df[['Price', 'Size']]\n",
    "    df.head()\n",
    "\n",
    "    # sample every 100ms, and the size would be the sum of the size in that 100ms. \n",
    "    # Price would be the average price in that 100ms.\n",
    "    df = df.resample('100ms').agg({'Price': 'mean', 'Size': 'sum'})\n",
    "\n",
    "    # Check for NaN values\n",
    "\n",
    "    # forwardfill all NaN values in the data\n",
    "    df = df.ffill()\n",
    "\n",
    "    # normalize the data with mean and std\n",
    "    mean = df['Price'].mean()\n",
    "    std = df['Price'].std()\n",
    "    df['Price'] = (df['Price'] - mean) / std\n",
    "\n",
    "    mean = df['Size'].mean()\n",
    "    std = df['Size'].std()\n",
    "    df['Size'] = (df['Size'] - mean) / std\n",
    "\n",
    "    print(\"original shape: \", df.shape)\n",
    "\n",
    "    df = df.values\n",
    "    # Create a tensor for every 30 minutes of data\n",
    "    tensors = []\n",
    "    for i in range(0, len(df), 6000):\n",
    "        if i + 18000 <= len(df):\n",
    "            # flip the first and second dimension, so that the shape is (batch_size, channel, sequence_length)\n",
    "            tensors.append(torch.tensor(df[i:i+18000], dtype = torch.float32).unsqueeze(0))\n",
    "        # if it's less than 30 minutes, then we just ignore it. \n",
    "        \n",
    "    del df\n",
    "    gc.collect()\n",
    "    \n",
    "    print(f\"{len(tensors)} tensor(s) created.\")\n",
    "            \n",
    "    return tensors\n",
    "\n",
    "    # Create the final torch tensor, every 1 hour is a sequence\n",
    "\n",
    "tensors_list = []\n"
   ]
  },
  {
   "cell_type": "code",
   "execution_count": 13,
   "metadata": {},
   "outputs": [
    {
     "name": "stdout",
     "output_type": "stream",
     "text": [
      "Read 993824 unique order book shapshots from ./data/hft_data/INTC/INTC_2024-03-04_34200000_57600000_message_10.csv\n",
      "original shape:  (234000, 2)\n",
      "37 tensor(s) created.\n",
      "Read 1048469 unique order book shapshots from ./data/hft_data/INTC/INTC_2024-03-05_34200000_57600000_message_10.csv\n",
      "original shape:  (234000, 2)\n",
      "37 tensor(s) created.\n",
      "Read 1317784 unique order book shapshots from ./data/hft_data/INTC/INTC_2024-03-06_34200000_57600000_message_10.csv\n",
      "original shape:  (234000, 2)\n",
      "37 tensor(s) created.\n",
      "Read 1039638 unique order book shapshots from ./data/hft_data/INTC/INTC_2024-03-07_34200000_57600000_message_10.csv\n",
      "original shape:  (234000, 2)\n",
      "37 tensor(s) created.\n",
      "Read 1490047 unique order book shapshots from ./data/hft_data/INTC/INTC_2024-03-08_34200000_57600000_message_10.csv\n",
      "original shape:  (234000, 2)\n",
      "37 tensor(s) created.\n"
     ]
    }
   ],
   "source": [
    "# %load load_data.py\n",
    "import pandas as pd\n",
    "import glob, os, re\n",
    "\n",
    "\n",
    "# Read the data only once.  It's big!\n",
    "csv_files = glob.glob(os.path.join(\".\", \"data\", \"hft_data\", ticker, \"*_message_*.csv\"))\n",
    "date_str = re.compile(r'_(\\d{4}-\\d{2}-\\d{2})_')\n",
    "stock_str = re.compile(r'([A-Z]+)_\\d{4}-\\d{2}-\\d{2}_')\n",
    "\n",
    "df_list = []\n",
    "day_list = []\n",
    "sym_list = []\n",
    "\n",
    "for csv_file in sorted(csv_files):\n",
    "    date = date_str.search(csv_file)\n",
    "    date = date.group(1)\n",
    "    day_list.append(date)\n",
    "\n",
    "    symbol = stock_str.search(csv_file)\n",
    "    symbol = symbol.group(1)\n",
    "    sym_list.append(symbol)\n",
    "\n",
    "    # Find the order book file that matches this message file.\n",
    "    book_file = csv_file.replace(\"message\", \"orderbook\")\n",
    "\n",
    "    # Read the message file and index by timestamp.\n",
    "    df = pd.read_csv(csv_file, names=['Time','EventType','OrderID','Size','Price','Direction'])\n",
    "    df['Time'] = pd.to_datetime(date) + pd.to_timedelta(df['Time'], unit='s')\n",
    "\n",
    "    # Read the order book file and merge it with the messages.\n",
    "    names = [f\"{x}{i}\" for i in range(1,11) for x in [\"AP\",\"AS\",\"BP\",\"BS\"]]\n",
    "    df = df.join(pd.read_csv(book_file, names=names), how='inner')\n",
    "    df = df.set_index(['Time'])\n",
    "\n",
    "    BBID_COL = df.columns.get_loc(\"BP1\")\n",
    "    BASK_COL = df.columns.get_loc(\"AP1\")\n",
    "\n",
    "    print (f\"Read {df.shape[0]} unique order book shapshots from {csv_file}\")\n",
    "    \n",
    "    tensors_list.extend(prep_data(df))\n",
    "\n",
    "days = len(day_list)"
   ]
  },
  {
   "cell_type": "code",
   "execution_count": 14,
   "metadata": {},
   "outputs": [
    {
     "name": "stdout",
     "output_type": "stream",
     "text": [
      "len(tensors_list) = 185\n",
      "True\n"
     ]
    }
   ],
   "source": [
    "# filp the first and second dimension, so that the shape is (batch_size, channel, sequence_length)\n",
    "tensors_list = [tensor.permute(0, 2, 1) for tensor in tensors_list]\n",
    "\n",
    "print(f\"{len(tensors_list) = }\")\n",
    "\n",
    "dims = [tensor.shape[1] for tensor in tensors_list]\n",
    "\n",
    "\n",
    "\n",
    "# check if all dims are the same\n",
    "print(all(x == dims[0] for x in dims))\n"
   ]
  },
  {
   "cell_type": "code",
   "execution_count": 15,
   "metadata": {},
   "outputs": [
    {
     "name": "stdout",
     "output_type": "stream",
     "text": [
      "Using device mps\n"
     ]
    }
   ],
   "source": [
    "# Start the training process with tensors.\n",
    "\n",
    "if torch.cuda.is_available():\n",
    "    device = torch.device(\"cuda\")\n",
    "elif torch.backends.mps.is_available():\n",
    "    device = torch.device(\"mps\")\n",
    "else:\n",
    "    device = torch.device(\"cpu\")\n",
    "\n",
    "print(f\"Using device {device}\")\n",
    "\n",
    "def initialize_weights(m):\n",
    "    if isinstance(m, nn.Conv1d):\n",
    "        nn.init.xavier_normal_(m.weight)\n",
    "        if m.bias is not None:\n",
    "            nn.init.constant_(m.bias, 0)\n",
    "\n",
    "def log_cosh_loss(y_pred: torch.Tensor, y_true: torch.Tensor) -> torch.Tensor:\n",
    "    def _log_cosh(x: torch.Tensor) -> torch.Tensor:\n",
    "        return x + torch.nn.functional.softplus(-2. * x) - np.log(2.0)\n",
    "    return torch.mean(_log_cosh(y_pred - y_true))\n",
    "\n",
    "class LogCoshLoss(torch.nn.Module):\n",
    "    def __init__(self):\n",
    "        super().__init__()\n",
    "\n",
    "    def forward(\n",
    "        self, y_pred: torch.Tensor, y_true: torch.Tensor\n",
    "    ) -> torch.Tensor:\n",
    "        return log_cosh_loss(y_pred, y_true)\n",
    "\n",
    "model = TCNAutoencoder(input_dim=(2, 18000)).to(device)\n",
    "model.apply(initialize_weights)\n",
    "\n",
    "criterion = LogCoshLoss()\n",
    "optimizer = optim.Adam(model.parameters(), lr=0.0001)\n",
    "\n",
    "import tqdm\n",
    "\n",
    "# Randomly sample 0.2 of the data from the batch for testing, excluding them for traning.\n",
    "tensors = tensors_list\n",
    "np.random.shuffle(tensors)\n",
    "tensors_train = tensors[:int(len(tensors) * 0.8)]\n",
    "tensors_test = tensors[int(len(tensors) * 0.8):]"
   ]
  },
  {
   "cell_type": "code",
   "execution_count": 16,
   "metadata": {},
   "outputs": [],
   "source": [
    "def check_gradients(model):\n",
    "    total_norm = 0\n",
    "    for p in model.parameters():\n",
    "        if p.grad is not None:\n",
    "            param_norm = p.grad.data.norm(2)\n",
    "            total_norm += param_norm.item() ** 2\n",
    "    total_norm = total_norm ** 0.5\n",
    "    print(f'Total Gradient Norm: {total_norm}')\n"
   ]
  },
  {
   "cell_type": "code",
   "execution_count": 17,
   "metadata": {},
   "outputs": [
    {
     "name": "stderr",
     "output_type": "stream",
     "text": [
      "/Users/chan/.pyenv/versions/3.11.8/lib/python3.11/site-packages/torch/nn/modules/conv.py:306: UserWarning: Using padding='same' with even kernel lengths and odd dilation may require a zero-padded copy of the input be created (Triggered internally at /Users/runner/work/pytorch/pytorch/pytorch/aten/src/ATen/native/Convolution.cpp:1041.)\n",
      "  return F.conv1d(input, weight, bias, self.stride,\n"
     ]
    },
    {
     "name": "stdout",
     "output_type": "stream",
     "text": [
      "Total Gradient Norm: 0.21552810486056265\n",
      "Epoch: 0, Loss: 0.22161366045475006\n",
      "\t\tTest Loss: 0.2488870620727539\n",
      "Total Gradient Norm: 0.14042977222672662\n",
      "Epoch: 10, Loss: 0.21998824179172516\n",
      "\t\tTest Loss: 0.2445337176322937\n",
      "Total Gradient Norm: 0.20962649748297166\n",
      "Epoch: 20, Loss: 0.2630583345890045\n",
      "\t\tTest Loss: 0.23827749490737915\n",
      "Total Gradient Norm: 0.26486458521595796\n",
      "Epoch: 30, Loss: 0.2539976239204407\n",
      "\t\tTest Loss: 0.22720269858837128\n",
      "Total Gradient Norm: 0.2988177676161499\n",
      "Epoch: 40, Loss: 0.1754494309425354\n",
      "\t\tTest Loss: 0.2072039246559143\n",
      "Total Gradient Norm: 0.4542800478579063\n",
      "Epoch: 50, Loss: 0.1942616105079651\n",
      "\t\tTest Loss: 0.17149153351783752\n",
      "Total Gradient Norm: 0.31028278647099417\n",
      "Epoch: 60, Loss: 0.10875286161899567\n",
      "\t\tTest Loss: 0.12449634075164795\n",
      "Total Gradient Norm: 0.33142484389601706\n",
      "Epoch: 70, Loss: 0.08022256195545197\n",
      "\t\tTest Loss: 0.08187659829854965\n",
      "Total Gradient Norm: 0.2811137484681313\n",
      "Epoch: 80, Loss: 0.07720418274402618\n",
      "\t\tTest Loss: 0.0655047595500946\n",
      "Total Gradient Norm: 0.25252567505383017\n",
      "Epoch: 90, Loss: 0.07420498132705688\n",
      "\t\tTest Loss: 0.06226538494229317\n",
      "Total Gradient Norm: 0.21707660297733014\n",
      "Epoch: 100, Loss: 0.06088031828403473\n",
      "\t\tTest Loss: 0.05684267729520798\n",
      "Total Gradient Norm: 0.051566442777809536\n",
      "Epoch: 110, Loss: 0.05972772836685181\n",
      "\t\tTest Loss: 0.05570942535996437\n",
      "Total Gradient Norm: 0.047093870143095476\n",
      "Epoch: 120, Loss: 0.06484275311231613\n",
      "\t\tTest Loss: 0.055369194597005844\n",
      "Total Gradient Norm: 0.03221042098582994\n",
      "Epoch: 130, Loss: 0.06427935510873795\n",
      "\t\tTest Loss: 0.05500272288918495\n"
     ]
    },
    {
     "ename": "KeyboardInterrupt",
     "evalue": "",
     "output_type": "error",
     "traceback": [
      "\u001b[0;31m---------------------------------------------------------------------------\u001b[0m",
      "\u001b[0;31mKeyboardInterrupt\u001b[0m                         Traceback (most recent call last)",
      "Cell \u001b[0;32mIn[17], line 14\u001b[0m\n\u001b[1;32m     11\u001b[0m np\u001b[38;5;241m.\u001b[39mrandom\u001b[38;5;241m.\u001b[39mshuffle(tensors_train)\n\u001b[1;32m     13\u001b[0m \u001b[38;5;66;03m# create a mini-batch of 32\u001b[39;00m\n\u001b[0;32m---> 14\u001b[0m data \u001b[38;5;241m=\u001b[39m \u001b[43mtorch\u001b[49m\u001b[38;5;241;43m.\u001b[39;49m\u001b[43mcat\u001b[49m\u001b[43m(\u001b[49m\u001b[43mtensors_train\u001b[49m\u001b[43m[\u001b[49m\u001b[43m:\u001b[49m\u001b[38;5;241;43m32\u001b[39;49m\u001b[43m]\u001b[49m\u001b[43m,\u001b[49m\u001b[43m \u001b[49m\u001b[43mdim\u001b[49m\u001b[38;5;241;43m=\u001b[39;49m\u001b[38;5;241;43m0\u001b[39;49m\u001b[43m)\u001b[49m\u001b[38;5;241m.\u001b[39mto(device)\n\u001b[1;32m     16\u001b[0m optimizer\u001b[38;5;241m.\u001b[39mzero_grad()\n\u001b[1;32m     17\u001b[0m output \u001b[38;5;241m=\u001b[39m model(data)\n",
      "\u001b[0;31mKeyboardInterrupt\u001b[0m: "
     ]
    }
   ],
   "source": [
    "# Train the model\n",
    "\n",
    "import time\n",
    "losses = []\n",
    "test_losses = []\n",
    "for epoch in range(1000):\n",
    "    # time each epoch\n",
    "    start_time = time.time()\n",
    "\n",
    "    # shuffle the data\n",
    "    np.random.shuffle(tensors_train)\n",
    "\n",
    "    # create a mini-batch of 32\n",
    "    data = torch.cat(tensors_train[:32], dim=0).to(device)\n",
    "    \n",
    "    optimizer.zero_grad()\n",
    "    output = model(data)\n",
    "    loss = criterion(output, data)\n",
    "    loss.backward()\n",
    "    # This line is not needed as my model does not have exploding gradients\n",
    "    # torch.nn.utils.clip_grad_norm_(model.parameters(), max_norm=2.0)\n",
    "\n",
    "    optimizer.step()\n",
    "    # print(f\"Epoch: {epoch}, Loss: {loss.item()}\")\n",
    "    losses.append(loss.item())\n",
    "    # print(f\"Time taken (seconds): {time.time() - start_time}\")\n",
    "    if epoch % 10 == 0:\n",
    "        # test the model\n",
    "        model.eval()\n",
    "        check_gradients(model)\n",
    "        test_data = torch.cat(tensors_test, dim=0).to(device)\n",
    "        test_output = model(test_data)\n",
    "        test_loss = criterion(test_output, test_data)\n",
    "        print(f\"Epoch: {epoch}, Loss: {loss.item()}\")\n",
    "        print(f\"\\t\\tTest Loss: {test_loss.item()}\")\n",
    "        # save a model\n",
    "        test_losses.append((epoch, test_loss.item()))\n",
    "        model.train()\n",
    "\n",
    "\n",
    "# final OOS test\n",
    "model.eval()\n",
    "check_gradients(model)\n",
    "test_data = torch.cat(tensors_test, dim=0).to(device)\n",
    "test_output = model(test_data)\n",
    "test_loss = criterion(test_output, test_data)\n",
    "print(f\"\\t\\tTest Loss: {test_loss.item()}\")\n",
    "# save a model\n",
    "test_losses.append((epoch, test_loss.item()))\n",
    "\n",
    "# save a final model\n",
    "# torch.save(model.state_dict(), f\"{alias}_model_final.plt\")\n",
    "# print(f\"Model saved as {alias}_model_final.plt\")\n",
    "\n",
    "    "
   ]
  },
  {
   "cell_type": "code",
   "execution_count": 20,
   "metadata": {},
   "outputs": [
    {
     "name": "stdout",
     "output_type": "stream",
     "text": [
      "Loss plot saved as INTCloss_plot.png\n"
     ]
    },
    {
     "data": {
      "image/png": "[encoded data removed]",
      "text/plain": [
       "<Figure size 640x480 with 1 Axes>"
      ]
     },
     "metadata": {},
     "output_type": "display_data"
    }
   ],
   "source": [
    "# plot the loss\n",
    "epochs, t_losses = zip(*test_losses)\n",
    "plt.plot(epochs, t_losses)\n",
    "# overlay the training loss\n",
    "plt.plot(losses)\n",
    "plt.xlabel('Epoch')\n",
    "plt.ylabel('Loss')\n",
    "plt.legend(['Test Loss', 'Train Loss'])\n",
    "\n",
    "plt.title(f\"Loss Plot for Model: Only {alias}\")\n",
    "# save the plot in the current directory\n",
    "plt.savefig(f'{alias}loss_plot.png')\n",
    "print(f\"Loss plot saved as {alias}loss_plot.png\")\n",
    "\n",
    "\n",
    "# Run another 1000 epochs"
   ]
  },
  {
   "cell_type": "code",
   "execution_count": null,
   "metadata": {},
   "outputs": [],
   "source": [
    "plt.plot(losses)"
   ]
  },
  {
   "cell_type": "code",
   "execution_count": null,
   "metadata": {},
   "outputs": [],
   "source": []
  }
 ],
 "metadata": {
  "kernelspec": {
   "display_name": "Python 3",
   "language": "python",
   "name": "python3"
  },
  "language_info": {
   "codemirror_mode": {
    "name": "ipython",
    "version": 3
   },
   "file_extension": ".py",
   "mimetype": "text/x-python",
   "name": "python",
   "nbconvert_exporter": "python",
   "pygments_lexer": "ipython3",
   "version": "3.11.8"
  }
 },
 "nbformat": 4,
 "nbformat_minor": 4
}
