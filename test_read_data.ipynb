{
 "cells": [
  {
   "cell_type": "code",
   "execution_count": 2,
   "metadata": {},
   "outputs": [],
   "source": [
    "import glob, os, re\n",
    "import matplotlib.pyplot as plt\n",
    "import numpy as np\n",
    "import pandas as pd"
   ]
  },
  {
   "cell_type": "code",
   "execution_count": 8,
   "metadata": {},
   "outputs": [
    {
     "name": "stdout",
     "output_type": "stream",
     "text": [
      "Read 738034 unique order book shapshots from ./data/hft_data/AAPL/AAPL_2024-03-01_34200000_57600000_message_10.csv\n",
      "Read 1923409 unique order book shapshots from ./data/hft_data/AAPL/AAPL_2024-03-04_34200000_57600000_message_10.csv\n",
      "Read 2108353 unique order book shapshots from ./data/hft_data/AAPL/AAPL_2024-03-05_34200000_57600000_message_10.csv\n",
      "Read 2364167 unique order book shapshots from ./data/hft_data/AAPL/AAPL_2024-03-06_34200000_57600000_message_10.csv\n",
      "Read 1732063 unique order book shapshots from ./data/hft_data/AAPL/AAPL_2024-03-07_34200000_57600000_message_10.csv\n",
      "Read 3123866 unique order book shapshots from ./data/hft_data/AAPL/AAPL_2024-03-08_34200000_57600000_message_10.csv\n"
     ]
    }
   ],
   "source": [
    "### HFT data file reading.\n",
    "\n",
    "# Read the data only once.  It's big!\n",
    "csv_files = glob.glob(os.path.join(\".\", \"data\", \"hft_data\", \"*\", \"*_message_*.csv\"))\n",
    "date_str = re.compile(r'_(\\d{4}-\\d{2}-\\d{2})_')\n",
    "stock_str = re.compile(r'([A-Z]+)_\\d{4}-\\d{2}-\\d{2}_')\n",
    "\n",
    "df_list = []\n",
    "day_list = []\n",
    "sym_list = []\n",
    "\n",
    "for csv_file in sorted(csv_files):\n",
    "    date = date_str.search(csv_file)\n",
    "    date = date.group(1)\n",
    "    day_list.append(date)\n",
    "\n",
    "    symbol = stock_str.search(csv_file)\n",
    "    symbol = symbol.group(1)\n",
    "    sym_list.append(symbol)\n",
    "\n",
    "    # Find the order book file that matches this message file.\n",
    "    book_file = csv_file.replace(\"message\", \"orderbook\")\n",
    "\n",
    "    # Read the message file and index by timestamp.\n",
    "    df = pd.read_csv(csv_file, names=['Time','EventType','OrderID','Size','Price','Direction'])\n",
    "    df['Time'] = pd.to_datetime(date) + pd.to_timedelta(df['Time'], unit='s')\n",
    "\n",
    "    # Read the order book file and merge it with the messages.\n",
    "    names = [f\"{x}{i}\" for i in range(1,11) for x in [\"AP\",\"AS\",\"BP\",\"BS\"]]\n",
    "    df = df.join(pd.read_csv(book_file, names=names), how='inner')\n",
    "    df = df.set_index(['Time'])\n",
    "\n",
    "    BBID_COL = df.columns.get_loc(\"BP1\")\n",
    "    BASK_COL = df.columns.get_loc(\"AP1\")\n",
    "\n",
    "    print (f\"Read {df.shape[0]} unique order book shapshots from {csv_file}\")\n",
    "\n",
    "    df_list.append(df)\n",
    "\n",
    "days = len(day_list)"
   ]
  },
  {
   "cell_type": "code",
   "execution_count": 7,
   "metadata": {},
   "outputs": [
    {
     "data": {
      "text/plain": [
       "1"
      ]
     },
     "execution_count": 7,
     "metadata": {},
     "output_type": "execute_result"
    }
   ],
   "source": [
    "len(df_list)"
   ]
  },
  {
   "cell_type": "code",
   "execution_count": null,
   "metadata": {},
   "outputs": [],
   "source": []
  }
 ],
 "metadata": {
  "kernelspec": {
   "display_name": "Python 3",
   "language": "python",
   "name": "python3"
  },
  "language_info": {
   "codemirror_mode": {
    "name": "ipython",
    "version": 3
   },
   "file_extension": ".py",
   "mimetype": "text/x-python",
   "name": "python",
   "nbconvert_exporter": "python",
   "pygments_lexer": "ipython3",
   "version": "3.11.8"
  }
 },
 "nbformat": 4,
 "nbformat_minor": 2
}
