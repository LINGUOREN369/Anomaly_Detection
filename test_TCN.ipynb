{
 "cells": [
  {
   "cell_type": "code",
   "execution_count": 1,
   "id": "68a0f976-85d3-49bf-96dd-1cfd403f3ad7",
   "metadata": {},
   "outputs": [],
   "source": [
    "from tcnAutoencoder import TCNAutoencoder"
   ]
  },
  {
   "cell_type": "code",
   "execution_count": 3,
   "id": "b9e03075-839a-49b6-8c38-801b0abd1e22",
   "metadata": {},
   "outputs": [],
   "source": [
    "import torch\n",
    "import torch.nn as nn\n",
    "import torch.optim as optim\n",
    "import torch.nn.functional as F\n",
    "from torch.utils.data import DataLoader, Dataset"
   ]
  },
  {
   "cell_type": "code",
   "execution_count": 6,
   "id": "32888a20-1e12-4a1f-a511-e86af01debe3",
   "metadata": {},
   "outputs": [],
   "source": [
    "\n",
    "# Example training loop\n",
    "def train_model(model, dataloader, num_epochs=10, learning_rate=1e-3):\n",
    "    optimizer = optim.Adam(model.parameters(), lr=learning_rate)\n",
    "    criterion = nn.MSELoss()\n",
    "    for epoch in range(num_epochs):\n",
    "        for data in dataloader:\n",
    "            optimizer.zero_grad()\n",
    "            output = model(data)\n",
    "            loss = criterion(output, data)\n",
    "            loss.backward()\n",
    "            optimizer.step()\n",
    "        print(f'Epoch [{epoch+1}/{num_epochs}], Loss: {loss.item():.4f}')\n",
    "\n",
    "# Example dataset\n",
    "class TimeSeriesDataset(Dataset):\n",
    "    def __init__(self, data):\n",
    "        self.data = data\n",
    "        \n",
    "    def __len__(self):\n",
    "        return len(self.data)\n",
    "    \n",
    "    def __getitem__(self, idx):\n",
    "        return self.data[idx]\n",
    "\n",
    "# Example usage\n",
    "data = torch.randn(100, 2, 420)  # Dummy data with shape (batch_size, num_channels, sequence_length)\n",
    "dataset = TimeSeriesDataset(data)\n",
    "dataloader = DataLoader(dataset, batch_size=16, shuffle=True)\n",
    "\n",
    "model = TCNAutoencoder(input_dim=(420, 2))\n",
    "train_model(model, dataloader)\n",
    "\n"
   ]
  },
  {
   "cell_type": "code",
   "execution_count": 11,
   "id": "ff344e00-9916-4648-9597-00ee57491206",
   "metadata": {},
   "outputs": [],
   "source": [
    "# Try and see I can run it on some dummy data. \n",
    "\n",
    "# Example usage\n",
    "data = torch.randn(100, 2, 420)  # Dummy data with shape (batch_size, num_channels, sequence_length)\n",
    "dataset = TimeSeriesDataset(data)\n",
    "dataloader = DataLoader(dataset, batch_size=16, shuffle=True)"
   ]
  },
  {
   "cell_type": "code",
   "execution_count": 4,
   "id": "3b8bcd72-3782-439a-a34a-5e3f9049177d",
   "metadata": {},
   "outputs": [
    {
     "data": {
      "text/plain": [
       "TCNAutoencoder(\n",
       "  (encoder): Encoder(\n",
       "    (tcn): TemporalConvNet(\n",
       "      (temporal_blocks): ModuleList(\n",
       "        (0): TemporalBlock(\n",
       "          (dilated_conv): Conv1d(2, 64, kernel_size=(2,), stride=(1,), padding=(1,))\n",
       "          (relu1): ReLU()\n",
       "          (pointwise_conv): Conv1d(64, 16, kernel_size=(1,), stride=(1,))\n",
       "          (relu2): ReLU()\n",
       "        )\n",
       "        (1): TemporalBlock(\n",
       "          (dilated_conv): Conv1d(16, 64, kernel_size=(2,), stride=(1,), padding=(2,), dilation=(2,))\n",
       "          (relu1): ReLU()\n",
       "          (pointwise_conv): Conv1d(64, 16, kernel_size=(1,), stride=(1,))\n",
       "          (relu2): ReLU()\n",
       "        )\n",
       "        (2): TemporalBlock(\n",
       "          (dilated_conv): Conv1d(16, 64, kernel_size=(2,), stride=(1,), padding=(4,), dilation=(4,))\n",
       "          (relu1): ReLU()\n",
       "          (pointwise_conv): Conv1d(64, 16, kernel_size=(1,), stride=(1,))\n",
       "          (relu2): ReLU()\n",
       "        )\n",
       "        (3): TemporalBlock(\n",
       "          (dilated_conv): Conv1d(16, 64, kernel_size=(2,), stride=(1,), padding=(8,), dilation=(8,))\n",
       "          (relu1): ReLU()\n",
       "          (pointwise_conv): Conv1d(64, 16, kernel_size=(1,), stride=(1,))\n",
       "          (relu2): ReLU()\n",
       "        )\n",
       "        (4): TemporalBlock(\n",
       "          (dilated_conv): Conv1d(16, 64, kernel_size=(2,), stride=(1,), padding=(16,), dilation=(16,))\n",
       "          (relu1): ReLU()\n",
       "          (pointwise_conv): Conv1d(64, 16, kernel_size=(1,), stride=(1,))\n",
       "          (relu2): ReLU()\n",
       "        )\n",
       "        (5): TemporalBlock(\n",
       "          (dilated_conv): Conv1d(16, 64, kernel_size=(2,), stride=(1,), padding=(32,), dilation=(32,))\n",
       "          (relu1): ReLU()\n",
       "          (pointwise_conv): Conv1d(64, 16, kernel_size=(1,), stride=(1,))\n",
       "          (relu2): ReLU()\n",
       "        )\n",
       "        (6): TemporalBlock(\n",
       "          (dilated_conv): Conv1d(16, 64, kernel_size=(2,), stride=(1,), padding=(64,), dilation=(64,))\n",
       "          (relu1): ReLU()\n",
       "          (pointwise_conv): Conv1d(64, 16, kernel_size=(1,), stride=(1,))\n",
       "          (relu2): ReLU()\n",
       "        )\n",
       "      )\n",
       "      (channel_reduction): ModuleList(\n",
       "        (0-6): 7 x Conv1d(16, 16, kernel_size=(1,), stride=(1,))\n",
       "      )\n",
       "    )\n",
       "  )\n",
       "  (decoder): Decoder(\n",
       "    (tcn): TemporalConvNet(\n",
       "      (temporal_blocks): ModuleList(\n",
       "        (0): TemporalBlock(\n",
       "          (dilated_conv): Conv1d(112, 64, kernel_size=(2,), stride=(1,), padding=(1,))\n",
       "          (relu1): ReLU()\n",
       "          (pointwise_conv): Conv1d(64, 16, kernel_size=(1,), stride=(1,))\n",
       "          (relu2): ReLU()\n",
       "        )\n",
       "        (1): TemporalBlock(\n",
       "          (dilated_conv): Conv1d(16, 64, kernel_size=(2,), stride=(1,), padding=(2,), dilation=(2,))\n",
       "          (relu1): ReLU()\n",
       "          (pointwise_conv): Conv1d(64, 16, kernel_size=(1,), stride=(1,))\n",
       "          (relu2): ReLU()\n",
       "        )\n",
       "        (2): TemporalBlock(\n",
       "          (dilated_conv): Conv1d(16, 64, kernel_size=(2,), stride=(1,), padding=(4,), dilation=(4,))\n",
       "          (relu1): ReLU()\n",
       "          (pointwise_conv): Conv1d(64, 16, kernel_size=(1,), stride=(1,))\n",
       "          (relu2): ReLU()\n",
       "        )\n",
       "        (3): TemporalBlock(\n",
       "          (dilated_conv): Conv1d(16, 64, kernel_size=(2,), stride=(1,), padding=(8,), dilation=(8,))\n",
       "          (relu1): ReLU()\n",
       "          (pointwise_conv): Conv1d(64, 16, kernel_size=(1,), stride=(1,))\n",
       "          (relu2): ReLU()\n",
       "        )\n",
       "        (4): TemporalBlock(\n",
       "          (dilated_conv): Conv1d(16, 64, kernel_size=(2,), stride=(1,), padding=(16,), dilation=(16,))\n",
       "          (relu1): ReLU()\n",
       "          (pointwise_conv): Conv1d(64, 16, kernel_size=(1,), stride=(1,))\n",
       "          (relu2): ReLU()\n",
       "        )\n",
       "        (5): TemporalBlock(\n",
       "          (dilated_conv): Conv1d(16, 64, kernel_size=(2,), stride=(1,), padding=(32,), dilation=(32,))\n",
       "          (relu1): ReLU()\n",
       "          (pointwise_conv): Conv1d(64, 16, kernel_size=(1,), stride=(1,))\n",
       "          (relu2): ReLU()\n",
       "        )\n",
       "        (6): TemporalBlock(\n",
       "          (dilated_conv): Conv1d(16, 64, kernel_size=(2,), stride=(1,), padding=(64,), dilation=(64,))\n",
       "          (relu1): ReLU()\n",
       "          (pointwise_conv): Conv1d(64, 16, kernel_size=(1,), stride=(1,))\n",
       "          (relu2): ReLU()\n",
       "        )\n",
       "      )\n",
       "      (channel_reduction): ModuleList(\n",
       "        (0-6): 7 x Conv1d(16, 16, kernel_size=(1,), stride=(1,))\n",
       "      )\n",
       "    )\n",
       "  )\n",
       ")"
      ]
     },
     "execution_count": 4,
     "metadata": {},
     "output_type": "execute_result"
    }
   ],
   "source": [
    "model = TCNAutoencoder(input_dim=(420, 2))\n",
    "device = torch.device(\"cuda\" if torch.cuda.is_available() else \"cpu\")\n",
    "\n",
    "model.to(device)"
   ]
  },
  {
   "cell_type": "code",
   "execution_count": 14,
   "id": "1b4dcb29-ee0b-4483-bef2-f569209c0d65",
   "metadata": {},
   "outputs": [
    {
     "data": {
      "text/plain": [
       "device(type='cuda')"
      ]
     },
     "execution_count": 14,
     "metadata": {},
     "output_type": "execute_result"
    }
   ],
   "source": [
    "device"
   ]
  },
  {
   "cell_type": "code",
   "execution_count": null,
   "id": "24cc1d0a-31fe-4c92-a89d-ce1ab67b78c9",
   "metadata": {},
   "outputs": [],
   "source": [
    "train_model(model, dataloader)"
   ]
  }
 ],
 "metadata": {
  "kernelspec": {
   "display_name": "Python 3.11",
   "language": "python",
   "name": "python3.11"
  },
  "language_info": {
   "codemirror_mode": {
    "name": "ipython",
    "version": 3
   },
   "file_extension": ".py",
   "mimetype": "text/x-python",
   "name": "python",
   "nbconvert_exporter": "python",
   "pygments_lexer": "ipython3",
   "version": "3.11.1"
  }
 },
 "nbformat": 4,
 "nbformat_minor": 5
}
